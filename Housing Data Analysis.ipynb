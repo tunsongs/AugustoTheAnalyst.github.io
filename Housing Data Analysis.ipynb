{
 "cells": [
  {
   "cell_type": "code",
   "execution_count": null,
   "id": "c81188be-71dd-49cf-bd1d-f4e8c8893004",
   "metadata": {},
   "outputs": [],
   "source": [
    "import pandas as pd\n",
    "import numpy as np\n",
    "import seaborn as sns\n",
    "import matplotlib.pyplot as plt \n",
    "import plotly.express as px\n",
    "#pio.renderers.default = 'browser'\n",
    "import plotly.io as pio \n",
    "import plotly.graph_objs as gobj\n",
    "from plotly.offline import download_plotlyjs,init_notebook_mode,plot,iplot"
   ]
  },
  {
   "cell_type": "code",
   "execution_count": null,
   "id": "a71f0dd7-4836-4710-a9a8-550988ce0b25",
   "metadata": {},
   "outputs": [],
   "source": [
    "df = pd.read_csv(r'C:\\Users\\Admin\\Downloads\\Telegram Desktop\\brasil_1 (2).csv')\n",
    "df1 = pd.read_csv(r'C:\\Users\\Admin\\Downloads\\Telegram Desktop\\brasil_2.csv')"
   ]
  },
  {
   "cell_type": "code",
   "execution_count": null,
   "id": "0b614ac2-1747-4514-9b5e-90e96fd33074",
   "metadata": {},
   "outputs": [
    {
     "data": {
      "text/html": [
       "<div>\n",
       "<style scoped>\n",
       "    .dataframe tbody tr th:only-of-type {\n",
       "        vertical-align: middle;\n",
       "    }\n",
       "\n",
       "    .dataframe tbody tr th {\n",
       "        vertical-align: top;\n",
       "    }\n",
       "\n",
       "    .dataframe thead th {\n",
       "        text-align: right;\n",
       "    }\n",
       "</style>\n",
       "<table border=\"1\" class=\"dataframe\">\n",
       "  <thead>\n",
       "    <tr style=\"text-align: right;\">\n",
       "      <th></th>\n",
       "      <th>property_type</th>\n",
       "      <th>place_with_parent_names</th>\n",
       "      <th>region</th>\n",
       "      <th>lat-lon</th>\n",
       "      <th>area_m2</th>\n",
       "      <th>price_usd</th>\n",
       "    </tr>\n",
       "  </thead>\n",
       "  <tbody>\n",
       "    <tr>\n",
       "      <th>0</th>\n",
       "      <td>apartment</td>\n",
       "      <td>|Brasil|Alagoas|Maceió|</td>\n",
       "      <td>Northeast</td>\n",
       "      <td>-9.6443051,-35.7088142</td>\n",
       "      <td>110.0</td>\n",
       "      <td>$187,230.85</td>\n",
       "    </tr>\n",
       "    <tr>\n",
       "      <th>1</th>\n",
       "      <td>apartment</td>\n",
       "      <td>|Brasil|Alagoas|Maceió|</td>\n",
       "      <td>Northeast</td>\n",
       "      <td>-9.6430934,-35.70484</td>\n",
       "      <td>65.0</td>\n",
       "      <td>$81,133.37</td>\n",
       "    </tr>\n",
       "    <tr>\n",
       "      <th>2</th>\n",
       "      <td>house</td>\n",
       "      <td>|Brasil|Alagoas|Maceió|</td>\n",
       "      <td>Northeast</td>\n",
       "      <td>-9.6227033,-35.7297953</td>\n",
       "      <td>211.0</td>\n",
       "      <td>$154,465.45</td>\n",
       "    </tr>\n",
       "    <tr>\n",
       "      <th>3</th>\n",
       "      <td>apartment</td>\n",
       "      <td>|Brasil|Alagoas|Maceió|</td>\n",
       "      <td>Northeast</td>\n",
       "      <td>-9.622837,-35.719556</td>\n",
       "      <td>99.0</td>\n",
       "      <td>$146,013.20</td>\n",
       "    </tr>\n",
       "    <tr>\n",
       "      <th>4</th>\n",
       "      <td>apartment</td>\n",
       "      <td>|Brasil|Alagoas|Maceió|</td>\n",
       "      <td>Northeast</td>\n",
       "      <td>-9.654955,-35.700227</td>\n",
       "      <td>55.0</td>\n",
       "      <td>$101,416.71</td>\n",
       "    </tr>\n",
       "  </tbody>\n",
       "</table>\n",
       "</div>"
      ],
      "text/plain": [
       "  property_type  place_with_parent_names     region                 lat-lon  \\\n",
       "0     apartment  |Brasil|Alagoas|Maceió|  Northeast  -9.6443051,-35.7088142   \n",
       "1     apartment  |Brasil|Alagoas|Maceió|  Northeast    -9.6430934,-35.70484   \n",
       "2         house  |Brasil|Alagoas|Maceió|  Northeast  -9.6227033,-35.7297953   \n",
       "3     apartment  |Brasil|Alagoas|Maceió|  Northeast    -9.622837,-35.719556   \n",
       "4     apartment  |Brasil|Alagoas|Maceió|  Northeast    -9.654955,-35.700227   \n",
       "\n",
       "   area_m2    price_usd  \n",
       "0    110.0  $187,230.85  \n",
       "1     65.0   $81,133.37  \n",
       "2    211.0  $154,465.45  \n",
       "3     99.0  $146,013.20  \n",
       "4     55.0  $101,416.71  "
      ]
     },
     "execution_count": 3,
     "metadata": {},
     "output_type": "execute_result"
    }
   ],
   "source": [
    "df.head()"
   ]
  },
  {
   "cell_type": "code",
   "execution_count": null,
   "id": "b659f290-4ebd-40c3-9500-2c3cdeeaf9fe",
   "metadata": {},
   "outputs": [
    {
     "data": {
      "text/html": [
       "<div>\n",
       "<style scoped>\n",
       "    .dataframe tbody tr th:only-of-type {\n",
       "        vertical-align: middle;\n",
       "    }\n",
       "\n",
       "    .dataframe tbody tr th {\n",
       "        vertical-align: top;\n",
       "    }\n",
       "\n",
       "    .dataframe thead th {\n",
       "        text-align: right;\n",
       "    }\n",
       "</style>\n",
       "<table border=\"1\" class=\"dataframe\">\n",
       "  <thead>\n",
       "    <tr style=\"text-align: right;\">\n",
       "      <th></th>\n",
       "      <th>property_type</th>\n",
       "      <th>state</th>\n",
       "      <th>region</th>\n",
       "      <th>lat</th>\n",
       "      <th>lon</th>\n",
       "      <th>area_m2</th>\n",
       "      <th>price_brl</th>\n",
       "    </tr>\n",
       "  </thead>\n",
       "  <tbody>\n",
       "    <tr>\n",
       "      <th>0</th>\n",
       "      <td>apartment</td>\n",
       "      <td>Pernambuco</td>\n",
       "      <td>Northeast</td>\n",
       "      <td>-8.134204</td>\n",
       "      <td>-34.906326</td>\n",
       "      <td>72.0</td>\n",
       "      <td>414222.98</td>\n",
       "    </tr>\n",
       "    <tr>\n",
       "      <th>1</th>\n",
       "      <td>apartment</td>\n",
       "      <td>Pernambuco</td>\n",
       "      <td>Northeast</td>\n",
       "      <td>-8.126664</td>\n",
       "      <td>-34.903924</td>\n",
       "      <td>136.0</td>\n",
       "      <td>848408.53</td>\n",
       "    </tr>\n",
       "    <tr>\n",
       "      <th>2</th>\n",
       "      <td>apartment</td>\n",
       "      <td>Pernambuco</td>\n",
       "      <td>Northeast</td>\n",
       "      <td>-8.125550</td>\n",
       "      <td>-34.907601</td>\n",
       "      <td>75.0</td>\n",
       "      <td>299438.28</td>\n",
       "    </tr>\n",
       "    <tr>\n",
       "      <th>3</th>\n",
       "      <td>apartment</td>\n",
       "      <td>Pernambuco</td>\n",
       "      <td>Northeast</td>\n",
       "      <td>-8.120249</td>\n",
       "      <td>-34.895920</td>\n",
       "      <td>187.0</td>\n",
       "      <td>848408.53</td>\n",
       "    </tr>\n",
       "    <tr>\n",
       "      <th>4</th>\n",
       "      <td>apartment</td>\n",
       "      <td>Pernambuco</td>\n",
       "      <td>Northeast</td>\n",
       "      <td>-8.142666</td>\n",
       "      <td>-34.906906</td>\n",
       "      <td>80.0</td>\n",
       "      <td>464129.36</td>\n",
       "    </tr>\n",
       "  </tbody>\n",
       "</table>\n",
       "</div>"
      ],
      "text/plain": [
       "  property_type       state     region       lat        lon  area_m2  \\\n",
       "0     apartment  Pernambuco  Northeast -8.134204 -34.906326     72.0   \n",
       "1     apartment  Pernambuco  Northeast -8.126664 -34.903924    136.0   \n",
       "2     apartment  Pernambuco  Northeast -8.125550 -34.907601     75.0   \n",
       "3     apartment  Pernambuco  Northeast -8.120249 -34.895920    187.0   \n",
       "4     apartment  Pernambuco  Northeast -8.142666 -34.906906     80.0   \n",
       "\n",
       "   price_brl  \n",
       "0  414222.98  \n",
       "1  848408.53  \n",
       "2  299438.28  \n",
       "3  848408.53  \n",
       "4  464129.36  "
      ]
     },
     "execution_count": 4,
     "metadata": {},
     "output_type": "execute_result"
    }
   ],
   "source": [
    "df1.head()"
   ]
  },
  {
   "cell_type": "code",
   "execution_count": null,
   "id": "7151c3d8-0a0a-415c-9f79-add521bd482c",
   "metadata": {
    "scrolled": true
   },
   "outputs": [
    {
     "data": {
      "text/plain": [
       "place_with_parent_names\n",
       "|Brasil|Paraná|Londrina|                                  813\n",
       "|Brasil|Minas Gerais|Belo Horizonte|                      430\n",
       "|Brasil|Minas Gerais|Belo Horizonte|Buritis|              405\n",
       "|Brasil|Bahia|Salvador|Pituba|                            315\n",
       "|Brasil|Bahia|Salvador|                                   314\n",
       "                                                         ... \n",
       "|Brasil|Espírito Santo|Guarapari|Santa Mônica|              1\n",
       "|Brasil|Espírito Santo|Guarapari|Enseada Azul|              1\n",
       "|Brasil|Espírito Santo|Vila Velha|Barra do Jucu|            1\n",
       "|Brasil|Espírito Santo|Vila Velha|Jockey de Itaparica|      1\n",
       "|Brasil|Pernambuco|Recife|Boa Vista|                        1\n",
       "Name: count, Length: 565, dtype: int64"
      ]
     },
     "execution_count": 5,
     "metadata": {},
     "output_type": "execute_result"
    }
   ],
   "source": [
    "df.place_with_parent_names.value_counts()\n",
    "\n"
   ]
  },
  {
   "cell_type": "code",
   "execution_count": null,
   "id": "23cd1500-c662-444b-af90-687dfee8821a",
   "metadata": {},
   "outputs": [
    {
     "data": {
      "text/plain": [
       "state\n",
       "Rio Grande do Sul      3000\n",
       "Rio de Janeiro         3000\n",
       "Santa Catarina         3000\n",
       "São Paulo              3000\n",
       "Pernambuco              372\n",
       "Rio Grande do Norte     342\n",
       "Sergipe                  83\n",
       "Piauí                    29\n",
       "Rondônia                  5\n",
       "Tocantins                 2\n",
       "Name: count, dtype: int64"
      ]
     },
     "execution_count": 6,
     "metadata": {},
     "output_type": "execute_result"
    }
   ],
   "source": [
    "df1.state.value_counts()"
   ]
  },
  {
   "cell_type": "code",
   "execution_count": null,
   "id": "ec657b00-fa04-4286-ad8a-e8bd74119026",
   "metadata": {},
   "outputs": [],
   "source": [
    "df.isnull().sum()"
   ]
  },
  {
   "cell_type": "code",
   "execution_count": null,
   "id": "1ac330ad-6400-408a-858f-fc45fc1aabb8",
   "metadata": {},
   "outputs": [],
   "source": [
    "df.shape"
   ]
  },
  {
   "cell_type": "code",
   "execution_count": null,
   "id": "4545128f-3c45-4c4e-93af-7f713abdaba5",
   "metadata": {},
   "outputs": [],
   "source": [
    "df1.isnull().sum()"
   ]
  },
  {
   "cell_type": "code",
   "execution_count": null,
   "id": "5bdb7708-5048-4a2c-a2d7-cadaa15c3f59",
   "metadata": {},
   "outputs": [],
   "source": [
    "df.drop('lat-lon',inplace= True,axis=1)"
   ]
  },
  {
   "cell_type": "code",
   "execution_count": null,
   "id": "7a28b915-39a3-4f40-baa6-7eae0721bba8",
   "metadata": {},
   "outputs": [],
   "source": [
    "df.columns"
   ]
  },
  {
   "cell_type": "code",
   "execution_count": null,
   "id": "862ff7e5-ca90-417d-ada5-f8b0fb58032e",
   "metadata": {},
   "outputs": [],
   "source": [
    "df.isnull().sum()"
   ]
  },
  {
   "cell_type": "code",
   "execution_count": null,
   "id": "0b1a9278-a972-4fcf-9cb9-1f10e04781b4",
   "metadata": {},
   "outputs": [],
   "source": [
    "df.head()"
   ]
  },
  {
   "cell_type": "markdown",
   "id": "6b4a3f32-e5cf-420b-875a-d5a2956dc4ae",
   "metadata": {},
   "source": [
    "# Creating new columna from place_with_parent_names"
   ]
  },
  {
   "cell_type": "code",
   "execution_count": null,
   "id": "44fbb574-0143-45e1-ae04-43f45351de41",
   "metadata": {},
   "outputs": [],
   "source": [
    "df[['Country','state','city','Street']] = df['place_with_parent_names'].str.strip('|').str.split('|', expand=True)"
   ]
  },
  {
   "cell_type": "code",
   "execution_count": null,
   "id": "78b08a69-0ae4-4260-97c8-bcfe30a51512",
   "metadata": {},
   "outputs": [],
   "source": [
    "df.drop(['place_with_parent_names','Country','city','Street'], inplace=True,axis=1)"
   ]
  },
  {
   "cell_type": "code",
   "execution_count": null,
   "id": "727b5227-4987-49fb-a1af-7c1ee18ef2ed",
   "metadata": {},
   "outputs": [],
   "source": [
    "df.head()"
   ]
  },
  {
   "cell_type": "code",
   "execution_count": null,
   "id": "a8678354-1192-4644-89a8-195a0337eea4",
   "metadata": {},
   "outputs": [],
   "source": [
    "df['price_usd'] = np.array(df['price_usd'])"
   ]
  },
  {
   "cell_type": "markdown",
   "id": "ba5c4bf8-0e57-440d-ab04-386337a53358",
   "metadata": {},
   "source": [
    "# Removing String Characters from Data"
   ]
  },
  {
   "cell_type": "code",
   "execution_count": null,
   "id": "3dac42eb-db36-4950-a924-d1167de066fb",
   "metadata": {},
   "outputs": [],
   "source": [
    "1USD = 6.19 reais\n",
    "df['price_usd'] = df['price_usd'].str.replace(r'[$,]','' ,regex=True)"
   ]
  },
  {
   "cell_type": "code",
   "execution_count": null,
   "id": "493fad3d-a0b6-4867-8f98-07015d03531c",
   "metadata": {},
   "outputs": [],
   "source": [
    "df['price_usd']"
   ]
  },
  {
   "cell_type": "code",
   "execution_count": null,
   "id": "ff1674e9-e387-48aa-a950-e6b6b6677bd2",
   "metadata": {},
   "outputs": [],
   "source": [
    "df['price_usd'] =(df['price_usd']).astype(float)"
   ]
  },
  {
   "cell_type": "markdown",
   "id": "d0279e0d-0f2e-43a2-9967-40e30f6a2d46",
   "metadata": {},
   "source": [
    "# 1 US dollar to Brazilian reais"
   ]
  },
  {
   "cell_type": "code",
   "execution_count": null,
   "id": "51c75f1a-6e74-4c30-b038-faf8d90cd292",
   "metadata": {},
   "outputs": [],
   "source": [
    "df['price_usd'] = (df['price_usd'] * 6.19)"
   ]
  },
  {
   "cell_type": "code",
   "execution_count": null,
   "id": "ee74624c-cdc8-46df-a821-eefe483c8b8b",
   "metadata": {},
   "outputs": [],
   "source": [
    "df['price_usd']"
   ]
  },
  {
   "cell_type": "markdown",
   "id": "6b720900-414a-49ce-b409-12edcbaf3c2a",
   "metadata": {},
   "source": [
    "# Checking for Duplicates"
   ]
  },
  {
   "cell_type": "code",
   "execution_count": null,
   "id": "1c28ecb8-8e8c-4f02-a271-c96f41266963",
   "metadata": {},
   "outputs": [],
   "source": [
    "df.duplicated().sum()"
   ]
  },
  {
   "cell_type": "code",
   "execution_count": null,
   "id": "7115873d-8f30-4776-ac5b-bbf51a5347f9",
   "metadata": {},
   "outputs": [],
   "source": [
    "df.drop_duplicates(inplace=True)"
   ]
  },
  {
   "cell_type": "code",
   "execution_count": null,
   "id": "2950ee6a-65b0-4d0b-b4a5-58823f707373",
   "metadata": {},
   "outputs": [],
   "source": [
    "df1.duplicated().sum()"
   ]
  },
  {
   "cell_type": "code",
   "execution_count": null,
   "id": "f13f633c-ed85-4575-85a6-07ae39beee95",
   "metadata": {},
   "outputs": [],
   "source": [
    "df1.drop_duplicates(inplace=True)"
   ]
  },
  {
   "cell_type": "code",
   "execution_count": null,
   "id": "b9532be7-840b-4ac9-bb11-4d78c9bcd87b",
   "metadata": {},
   "outputs": [],
   "source": [
    "df.describe()"
   ]
  },
  {
   "cell_type": "code",
   "execution_count": null,
   "id": "5de3fc1e-d41f-4e22-97c2-129bf25d4ab1",
   "metadata": {},
   "outputs": [],
   "source": [
    " df1.drop(['lat','lon'],axis=1,inplace=True)"
   ]
  },
  {
   "cell_type": "code",
   "execution_count": null,
   "id": "88f58417-558f-4175-a6b7-71268a24b08e",
   "metadata": {},
   "outputs": [],
   "source": [
    "df1.columns"
   ]
  },
  {
   "cell_type": "code",
   "execution_count": null,
   "id": "8658c92a-acbd-4278-a7e0-6a3809db9d1d",
   "metadata": {},
   "outputs": [],
   "source": [
    "df= df.rename(columns={'price_usd':'price_brl'})"
   ]
  },
  {
   "cell_type": "code",
   "execution_count": null,
   "id": "674f7e3e-c06a-4983-93dd-67b79c3496d4",
   "metadata": {},
   "outputs": [],
   "source": [
    "df.columns"
   ]
  },
  {
   "cell_type": "code",
   "execution_count": null,
   "id": "eac00e3a-93bc-4060-b575-38f33b750622",
   "metadata": {},
   "outputs": [],
   "source": [
    "newdf= pd.concat([df,df1])"
   ]
  },
  {
   "cell_type": "code",
   "execution_count": null,
   "id": "67cf4bcc-8a11-47a7-a030-5aafe6b03e08",
   "metadata": {},
   "outputs": [],
   "source": [
    "newdf"
   ]
  },
  {
   "cell_type": "markdown",
   "id": "841505ac-35ca-4104-bc35-cb7a68f119a9",
   "metadata": {},
   "source": [
    "# Checking for null values "
   ]
  },
  {
   "cell_type": "code",
   "execution_count": null,
   "id": "551e7dea-5048-41e0-8f69-2ab35271d19a",
   "metadata": {},
   "outputs": [],
   "source": [
    "newdf.isnull().sum()"
   ]
  },
  {
   "cell_type": "code",
   "execution_count": null,
   "id": "d31e8f2f-096a-4449-9f33-ae4f9c57b38f",
   "metadata": {},
   "outputs": [],
   "source": [
    "newdf['area_m2'].median()"
   ]
  },
  {
   "cell_type": "markdown",
   "id": "5bc63ee7-daf2-40c4-8c56-76d75b920a3f",
   "metadata": {},
   "source": [
    "Filling null values with median"
   ]
  },
  {
   "cell_type": "code",
   "execution_count": null,
   "id": "16655a44-d54c-419f-881a-10eebe61f625",
   "metadata": {},
   "outputs": [],
   "source": [
    "newdf['area_m2'].fillna(105.0,inplace= True)"
   ]
  },
  {
   "cell_type": "code",
   "execution_count": null,
   "id": "c4c1aa76-06a6-4344-b393-437c19b3043f",
   "metadata": {},
   "outputs": [],
   "source": [
    "newdf.isnull().sum()"
   ]
  },
  {
   "cell_type": "markdown",
   "id": "32e8ab2f-f4c7-4176-97d5-63b1f1211fd2",
   "metadata": {},
   "source": [
    "Checking for duplicates and removing duplicates"
   ]
  },
  {
   "cell_type": "code",
   "execution_count": null,
   "id": "30ea7fc5-b396-4b12-88f9-6d0ac0ce1f78",
   "metadata": {},
   "outputs": [],
   "source": [
    "newdf.duplicated().sum()"
   ]
  },
  {
   "cell_type": "code",
   "execution_count": null,
   "id": "dbe60a5b-e33a-4c66-ad0d-071d3e05b8d8",
   "metadata": {},
   "outputs": [],
   "source": [
    "newdf.drop_duplicates(inplace=True)"
   ]
  },
  {
   "cell_type": "code",
   "execution_count": null,
   "id": "cf4d7331-866f-4eb6-bf8e-d72ccec412fc",
   "metadata": {},
   "outputs": [],
   "source": [
    "newdf.info()"
   ]
  },
  {
   "cell_type": "code",
   "execution_count": null,
   "id": "2d90d809-a473-496e-8551-c7ef0f7cbdfb",
   "metadata": {},
   "outputs": [],
   "source": [
    "newdf.shape"
   ]
  },
  {
   "cell_type": "code",
   "execution_count": null,
   "id": "5ca38974-0b84-4bd7-9270-af3d32cc06fe",
   "metadata": {},
   "outputs": [],
   "source": [
    "newdf.describe()"
   ]
  },
  {
   "cell_type": "markdown",
   "id": "4d942d5b-f598-4733-acdb-09d3de6b8ea1",
   "metadata": {},
   "source": [
    "# Exploratory Analysis\n",
    "Distribution of Variables"
   ]
  },
  {
   "cell_type": "code",
   "execution_count": null,
   "id": "fea70b26-4b61-4804-a34e-e3f29006f691",
   "metadata": {},
   "outputs": [],
   "source": [
    "newdf.columns"
   ]
  },
  {
   "cell_type": "code",
   "execution_count": null,
   "id": "4d79127b-ed6c-4630-b1a8-e4c231366a98",
   "metadata": {},
   "outputs": [],
   "source": [
    "newdf.property_type.value_counts()"
   ]
  },
  {
   "cell_type": "code",
   "execution_count": null,
   "id": "221ad5bb-a853-4353-b5b8-f0fe06730c9a",
   "metadata": {},
   "outputs": [],
   "source": [
    "plt.hist(newdf['property_type'])\n",
    "plt.xticks(rotation= 70)\n",
    "plt.show()"
   ]
  },
  {
   "cell_type": "code",
   "execution_count": null,
   "id": "073e8fc9-c661-4037-881a-3984bdbb80eb",
   "metadata": {},
   "outputs": [],
   "source": [
    "newdf.region.value_counts()"
   ]
  },
  {
   "cell_type": "code",
   "execution_count": null,
   "id": "dec3ffe3-3692-41cd-a49a-74de558bb2a3",
   "metadata": {},
   "outputs": [],
   "source": [
    "plt.hist(newdf['region'])\n",
    "plt.xticks(rotation= 70)\n",
    "plt.show()"
   ]
  },
  {
   "cell_type": "code",
   "execution_count": null,
   "id": "b90cfe6b-0429-4f45-94e4-29108413dc57",
   "metadata": {},
   "outputs": [],
   "source": [
    "newdf.state.value_counts()"
   ]
  },
  {
   "cell_type": "code",
   "execution_count": null,
   "id": "02c3f846-bec7-4c90-959a-f9d8e68aba68",
   "metadata": {},
   "outputs": [],
   "source": [
    "plt.hist(newdf['state'])\n",
    "plt.xticks(rotation= 70)\n",
    "plt.show()"
   ]
  },
  {
   "cell_type": "code",
   "execution_count": null,
   "id": "bd5e6002-1bed-492d-a934-8a33fb779802",
   "metadata": {},
   "outputs": [],
   "source": [
    "plt.hist(newdf['area_m2'])\n",
    "plt.xticks(rotation= 70)\n",
    "plt.show()"
   ]
  },
  {
   "cell_type": "code",
   "execution_count": null,
   "id": "e5da9d42-0777-4360-986b-c11828ed1ba4",
   "metadata": {},
   "outputs": [],
   "source": [
    "plt.hist(newdf['price_brl'])\n",
    "plt.xticks(rotation= 70)\n",
    "plt.show()"
   ]
  },
  {
   "cell_type": "markdown",
   "id": "75f15e34-c4db-4755-94e1-c6ae2bab68ea",
   "metadata": {},
   "source": [
    "# Data Visualization"
   ]
  },
  {
   "cell_type": "markdown",
   "id": "0e98da14-636c-40b4-ba8c-17aa3e4be822",
   "metadata": {},
   "source": [
    "Region Vs Price"
   ]
  },
  {
   "cell_type": "code",
   "execution_count": null,
   "id": "6dd68a16-9e05-45f8-a33b-45cddf86bfee",
   "metadata": {},
   "outputs": [],
   "source": [
    "region_price = newdf.groupby('region')['price_brl'].mean()\n",
    "sns.barplot(data=newdf, x= region_price.index,y= region_price, color='r')\n",
    "plt.title('Region Vs Price')\n",
    "plt.grid()\n",
    "plt.show()"
   ]
  },
  {
   "cell_type": "markdown",
   "id": "305cb73d-de5b-4f79-a3e0-db72571b47df",
   "metadata": {},
   "source": [
    "We can tell from visualization that The CENTRAL-WEST region has the hisghest pricing for rent."
   ]
  },
  {
   "cell_type": "code",
   "execution_count": null,
   "id": "3c38de16-761c-4b78-a7f6-7d20592450aa",
   "metadata": {},
   "outputs": [],
   "source": [
    "state_price = newdf.groupby('state')['price_brl'].mean()\n",
    "sns.barplot(data=newdf.sort_values(by='state'), x= state_price.index,y= state_price, color='y')\n",
    "state_price = newdf.groupby('state')['price_brl'].mean()\n",
    "plt.xticks(rotation= 70)\n",
    "plt.grid()\n",
    "plt.title('State Vs Price')\n",
    "plt.show()"
   ]
  },
  {
   "cell_type": "markdown",
   "id": "e094e30d-ba4e-4458-846c-e32eac5d6cac",
   "metadata": {},
   "source": [
    "From Visualization we can denote that Minas Gerais has the highest house pricing"
   ]
  },
  {
   "cell_type": "code",
   "execution_count": null,
   "id": "715f1ae1-2150-4c88-9f23-7a8ef8987283",
   "metadata": {},
   "outputs": [],
   "source": [
    "sns.heatmap(newdf[['area_m2','price_brl']].corr(),annot=True,cmap='Reds')\n",
    "plt.title('Corr Between Area & Price')\n",
    "plt.show()"
   ]
  },
  {
   "cell_type": "markdown",
   "id": "665d19bc-4030-4883-9df4-ddfc475d9465",
   "metadata": {},
   "source": [
    "There's no strong correlation between Property size on the prices of housing across states in Brasil."
   ]
  },
  {
   "cell_type": "code",
   "execution_count": null,
   "id": "0f0d4892-c7e1-4415-aa30-3b8db11d7df4",
   "metadata": {},
   "outputs": [],
   "source": [
    "propety_price = newdf.groupby('property_type')['price_brl'].mean()"
   ]
  },
  {
   "cell_type": "code",
   "execution_count": null,
   "id": "ca6d0c6a-cfc9-49d2-9d01-c1dcc35a1daf",
   "metadata": {},
   "outputs": [],
   "source": [
    "plt.barh(propety_price.index,propety_price)\n",
    "plt.title('Property Type Vs Price')\n",
    "plt.show()"
   ]
  },
  {
   "cell_type": "code",
   "execution_count": null,
   "id": "c2d5d755-c7a7-420a-b6b0-0d8924bd722c",
   "metadata": {},
   "outputs": [],
   "source": [
    "propety_area = newdf.groupby('property_type')['area_m2'].mean()"
   ]
  },
  {
   "cell_type": "code",
   "execution_count": null,
   "id": "9834a876-012a-461a-9533-c998d789862f",
   "metadata": {},
   "outputs": [],
   "source": [
    "plt.barh(propety_area.index,propety_area)\n",
    "plt.title('Property_type Vs Area')\n",
    "plt.show()"
   ]
  },
  {
   "cell_type": "code",
   "execution_count": null,
   "id": "a0e0e91a-b6ab-4d4d-a258-d5b1894f841d",
   "metadata": {},
   "outputs": [],
   "source": [
    "area_price = newdf.groupby('area_m2')['price_brl'].mean()\n",
    "plt.scatter(area_price.index, area_price)\n",
    "plt.title('Area Vs Price')\n",
    "plt.show()"
   ]
  },
  {
   "cell_type": "code",
   "execution_count": null,
   "id": "ab88c8c4-6468-4446-ae87-e9d97b74fb4d",
   "metadata": {},
   "outputs": [],
   "source": []
  }
 ],
 "metadata": {
  "kernelspec": {
   "display_name": "Python 3 (ipykernel)",
   "language": "python",
   "name": "python3"
  },
  "language_info": {
   "codemirror_mode": {
    "name": "ipython",
    "version": 3
   },
   "file_extension": ".py",
   "mimetype": "text/x-python",
   "name": "python",
   "nbconvert_exporter": "python",
   "pygments_lexer": "ipython3",
   "version": "3.12.7"
  }
 },
 "nbformat": 4,
 "nbformat_minor": 5
}
